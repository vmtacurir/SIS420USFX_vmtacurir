{
  "cells": [
    {
      "cell_type": "markdown",
      "metadata": {
        "id": "view-in-github",
        "colab_type": "text"
      },
      "source": [
        "<a href=\"https://colab.research.google.com/github/vmtacurir/SIS420USFX_vmtacurir/blob/main/reg_lin_mul_01.ipynb\" target=\"_parent\"><img src=\"https://colab.research.google.com/assets/colab-badge.svg\" alt=\"Open In Colab\"/></a>"
      ]
    },
    {
      "cell_type": "markdown",
      "metadata": {
        "id": "tfwOfkjclHQx"
      },
      "source": [
        "# Ejercicio de programación Regresión Lineal Multiple"
      ]
    },
    {
      "cell_type": "code",
      "execution_count": 1,
      "metadata": {
        "id": "f0WGMMljlHQz"
      },
      "outputs": [],
      "source": [
        "# utilizado para manejos de directorios y rutas\n",
        "import os\n",
        "\n",
        "# Computacion vectorial y cientifica para python\n",
        "import numpy as np\n",
        "\n",
        "# Librerias para graficación (trazado de gráficos)\n",
        "from matplotlib import pyplot\n",
        "from mpl_toolkits.mplot3d import Axes3D  # Necesario para graficar superficies 3D\n",
        "\n",
        "# llama a matplotlib a embeber graficas dentro de los cuadernillos\n",
        "%matplotlib inline"
      ]
    },
    {
      "cell_type": "code",
      "source": [
        "from google.colab import drive\n",
        "drive.mount(\"/content/gdrive\")"
      ],
      "metadata": {
        "colab": {
          "base_uri": "https://localhost:8080/"
        },
        "id": "LhERtghFlVGr",
        "outputId": "079bc502-a772-4d5f-80fc-a48291a1b186"
      },
      "execution_count": 2,
      "outputs": [
        {
          "output_type": "stream",
          "name": "stdout",
          "text": [
            "Mounted at /content/gdrive\n"
          ]
        }
      ]
    },
    {
      "cell_type": "markdown",
      "metadata": {
        "id": "G6-ykOwelHQ0"
      },
      "source": [
        "## 2 Regresión lineal con multiples variables\n",
        "\n",
        "Se implementa la regresion lineal multivariable para predecir el precio de las casas. El archivo `Datasets/ex1data2.txt` contiene un conjunto de entrenamiento de precios de casas en Portland, Oregon. La primera columna es el tamaño de la casa en metros cuadrados, la segunda columna es el numero de cuartos, y la tercera columna es el precio de la casa.\n",
        "\n",
        "<a id=\"section4\"></a>\n",
        "### 2.1 Normalización de caracteristicas\n",
        "\n",
        "Al visualizar los datos se puede observar que las caracteristicas tienen diferentes magnitudes, por lo cual se debe transformar cada valor en una escala de valores similares, esto con el fin de que el descenso por el gradiente pueda converger mas rapidamente."
      ]
    },
    {
      "cell_type": "code",
      "execution_count": 8,
      "metadata": {
        "colab": {
          "base_uri": "https://localhost:8080/"
        },
        "id": "6BP5grkxlHQ0",
        "outputId": "cb9bf1ef-9c9c-4293-b6da-7ecb7b085ae2"
      },
      "outputs": [
        {
          "output_type": "stream",
          "name": "stdout",
          "text": [
            "47\n",
            "  X[:,0] X[:, 1]         y\n",
            "--------------------------\n",
            "    2104       3    399900\n",
            "    1600       3    329900\n",
            "    2400       3    369000\n",
            "    1416       2    232000\n",
            "    3000       4    539900\n",
            "    1985       4    299900\n",
            "    1534       3    314900\n",
            "    1427       3    198999\n",
            "    1380       3    212000\n",
            "    1494       3    242500\n"
          ]
        }
      ],
      "source": [
        "# Cargar datos\n",
        "# data = np.loadtxt(os.path.join('Datasets', 'ex1data2.txt'), delimiter=',')\n",
        "data = np.loadtxt('/content/gdrive/MyDrive/Colab Notebooks/Machine Learning/Datasets/ex1data2.txt', delimiter=',')\n",
        "X = data[:, :2]\n",
        "y = data[:, 2]\n",
        "m = y.size\n",
        "print(m)\n",
        "# imprimir algunos puntos de datos\n",
        "print('{:>8s}{:>8s}{:>10s}'.format('X[:,0]', 'X[:, 1]', 'y'))\n",
        "print('-'*26)\n",
        "for i in range(10):\n",
        "    print('{:8.0f}{:8.0f}{:10.0f}'.format(X[i, 0], X[i, 1], y[i]))"
      ]
    },
    {
      "cell_type": "markdown",
      "metadata": {
        "id": "7iU_3mwZlHQ1"
      },
      "source": [
        "La desviación estándar es una forma de medir cuánta variación hay en el rango de valores de una característica en particular (la mayoría de los puntos caeran en un rango de ± 2 en relación a la desviaciones estándar de la media); esta es una alternativa a tomar el rango de valores (max-min). En `numpy`, se puede usar la función `std` para calcular la desviacion estandar.\n",
        "\n",
        "Por ejemplo, la caracteristica`X[:, 0]` contiene todos los valores de $x_1$ (tamaño de las casas) en el conjunto de entrenamiento, entonces `np.std(X[:, 0])` calcula la desviacion estandar de los tamaños de las casas.\n",
        "En el momento en que se llama a la función `featureNormalize`, la columna adicional de unos correspondiente a $ x_0 = 1 $ aún no se ha agregado a $ X $.\n",
        "\n",
        "<div class=\"alert alert-block alert-warning\">\n",
        "**Notas para la implementación:** Cuando se normalize una caracteristica, es importante almacenar los valores usados para la normalización - el valor de la media y el valor de la desviación estandar usado para los calculos. Despues de aprender los parametros del modelo, se deseara predecir los precios de casas que no se han visto antes. Dado un nuevo valor de x (area del living room y el numero de dormitorios), primero se debe normalizar x usando la media y la desviacion estandar que se empleo anteriormente en el conjunto de entrenamiento para entrenar el modelo.\n",
        "</div>\n",
        "<a id=\"featureNormalize\"></a>"
      ]
    },
    {
      "cell_type": "code",
      "execution_count": null,
      "metadata": {
        "id": "7xFD8H3WlHQ1"
      },
      "outputs": [],
      "source": [
        "def  featureNormalize(X):\n",
        "    X_norm = X.copy()\n",
        "    mu = np.zeros(X.shape[1])\n",
        "    sigma = np.zeros(X.shape[1])\n",
        "\n",
        "    mu = np.mean(X, axis = 0)\n",
        "    sigma = np.std(X, axis = 0)\n",
        "    X_norm = (X - mu) / sigma\n",
        "\n",
        "    return X_norm, mu, sigma"
      ]
    },
    {
      "cell_type": "code",
      "execution_count": null,
      "metadata": {
        "colab": {
          "base_uri": "https://localhost:8080/"
        },
        "id": "ipL_QsTZlHQ2",
        "outputId": "ea354c3c-1b3f-4d29-e1f5-0c54440ce378"
      },
      "outputs": [
        {
          "output_type": "stream",
          "name": "stdout",
          "text": [
            "[[2.104e+03 3.000e+00]\n",
            " [1.600e+03 3.000e+00]\n",
            " [2.400e+03 3.000e+00]\n",
            " [1.416e+03 2.000e+00]\n",
            " [3.000e+03 4.000e+00]\n",
            " [1.985e+03 4.000e+00]\n",
            " [1.534e+03 3.000e+00]\n",
            " [1.427e+03 3.000e+00]\n",
            " [1.380e+03 3.000e+00]\n",
            " [1.494e+03 3.000e+00]\n",
            " [1.940e+03 4.000e+00]\n",
            " [2.000e+03 3.000e+00]\n",
            " [1.890e+03 3.000e+00]\n",
            " [4.478e+03 5.000e+00]\n",
            " [1.268e+03 3.000e+00]\n",
            " [2.300e+03 4.000e+00]\n",
            " [1.320e+03 2.000e+00]\n",
            " [1.236e+03 3.000e+00]\n",
            " [2.609e+03 4.000e+00]\n",
            " [3.031e+03 4.000e+00]\n",
            " [1.767e+03 3.000e+00]\n",
            " [1.888e+03 2.000e+00]\n",
            " [1.604e+03 3.000e+00]\n",
            " [1.962e+03 4.000e+00]\n",
            " [3.890e+03 3.000e+00]\n",
            " [1.100e+03 3.000e+00]\n",
            " [1.458e+03 3.000e+00]\n",
            " [2.526e+03 3.000e+00]\n",
            " [2.200e+03 3.000e+00]\n",
            " [2.637e+03 3.000e+00]\n",
            " [1.839e+03 2.000e+00]\n",
            " [1.000e+03 1.000e+00]\n",
            " [2.040e+03 4.000e+00]\n",
            " [3.137e+03 3.000e+00]\n",
            " [1.811e+03 4.000e+00]\n",
            " [1.437e+03 3.000e+00]\n",
            " [1.239e+03 3.000e+00]\n",
            " [2.132e+03 4.000e+00]\n",
            " [4.215e+03 4.000e+00]\n",
            " [2.162e+03 4.000e+00]\n",
            " [1.664e+03 2.000e+00]\n",
            " [2.238e+03 3.000e+00]\n",
            " [2.567e+03 4.000e+00]\n",
            " [1.200e+03 3.000e+00]\n",
            " [8.520e+02 2.000e+00]\n",
            " [1.852e+03 4.000e+00]\n",
            " [1.203e+03 3.000e+00]]\n",
            "Media calculada: [2000.68085106    3.17021277]\n",
            "Desviación estandar calculada: [7.86202619e+02 7.52842809e-01]\n",
            "[[ 1.31415422e-01 -2.26093368e-01]\n",
            " [-5.09640698e-01 -2.26093368e-01]\n",
            " [ 5.07908699e-01 -2.26093368e-01]\n",
            " [-7.43677059e-01 -1.55439190e+00]\n",
            " [ 1.27107075e+00  1.10220517e+00]\n",
            " [-1.99450507e-02  1.10220517e+00]\n",
            " [-5.93588523e-01 -2.26093368e-01]\n",
            " [-7.29685755e-01 -2.26093368e-01]\n",
            " [-7.89466782e-01 -2.26093368e-01]\n",
            " [-6.44465993e-01 -2.26093368e-01]\n",
            " [-7.71822042e-02  1.10220517e+00]\n",
            " [-8.65999486e-04 -2.26093368e-01]\n",
            " [-1.40779041e-01 -2.26093368e-01]\n",
            " [ 3.15099326e+00  2.43050370e+00]\n",
            " [-9.31923697e-01 -2.26093368e-01]\n",
            " [ 3.80715024e-01  1.10220517e+00]\n",
            " [-8.65782986e-01 -1.55439190e+00]\n",
            " [-9.72625673e-01 -2.26093368e-01]\n",
            " [ 7.73743478e-01  1.10220517e+00]\n",
            " [ 1.31050078e+00  1.10220517e+00]\n",
            " [-2.97227261e-01 -2.26093368e-01]\n",
            " [-1.43322915e-01 -1.55439190e+00]\n",
            " [-5.04552951e-01 -2.26093368e-01]\n",
            " [-4.91995958e-02  1.10220517e+00]\n",
            " [ 2.40309445e+00 -2.26093368e-01]\n",
            " [-1.14560907e+00 -2.26093368e-01]\n",
            " [-6.90255715e-01 -2.26093368e-01]\n",
            " [ 6.68172729e-01 -2.26093368e-01]\n",
            " [ 2.53521350e-01 -2.26093368e-01]\n",
            " [ 8.09357707e-01 -2.26093368e-01]\n",
            " [-2.05647815e-01 -1.55439190e+00]\n",
            " [-1.27280274e+00 -2.88269044e+00]\n",
            " [ 5.00114703e-02  1.10220517e+00]\n",
            " [ 1.44532608e+00 -2.26093368e-01]\n",
            " [-2.41262044e-01  1.10220517e+00]\n",
            " [-7.16966387e-01 -2.26093368e-01]\n",
            " [-9.68809863e-01 -2.26093368e-01]\n",
            " [ 1.67029651e-01  1.10220517e+00]\n",
            " [ 2.81647389e+00  1.10220517e+00]\n",
            " [ 2.05187753e-01  1.10220517e+00]\n",
            " [-4.28236746e-01 -1.55439190e+00]\n",
            " [ 3.01854946e-01 -2.26093368e-01]\n",
            " [ 7.20322135e-01  1.10220517e+00]\n",
            " [-1.01841540e+00 -2.26093368e-01]\n",
            " [-1.46104938e+00 -1.55439190e+00]\n",
            " [-1.89112638e-01  1.10220517e+00]\n",
            " [-1.01459959e+00 -2.26093368e-01]]\n"
          ]
        }
      ],
      "source": [
        "# llama featureNormalize con los datos cargados\n",
        "X_norm, mu, sigma = featureNormalize(X)\n",
        "\n",
        "print(X)\n",
        "print('Media calculada:', mu)\n",
        "print('Desviación estandar calculada:', sigma)\n",
        "print(X_norm)"
      ]
    },
    {
      "cell_type": "markdown",
      "metadata": {
        "id": "it9bMYuLlHQ2"
      },
      "source": [
        "Despues de `featureNormalize` la funcion es provada, se añade el temino de interseccion a `X_norm`:"
      ]
    },
    {
      "cell_type": "code",
      "execution_count": null,
      "metadata": {
        "id": "nNaGVxgolHQ2"
      },
      "outputs": [],
      "source": [
        "# Añade el termino de interseccion a X\n",
        "# (Columna de unos para X0)\n",
        "X = np.concatenate([np.ones((m, 1)), X_norm], axis=1)"
      ]
    },
    {
      "cell_type": "code",
      "execution_count": null,
      "metadata": {
        "colab": {
          "base_uri": "https://localhost:8080/"
        },
        "id": "nbUVohnhlHQ3",
        "outputId": "1e2be72a-c2c6-4b3a-8739-aaf50574b8d9"
      },
      "outputs": [
        {
          "output_type": "stream",
          "name": "stdout",
          "text": [
            "[[ 1.00000000e+00  1.31415422e-01 -2.26093368e-01]\n",
            " [ 1.00000000e+00 -5.09640698e-01 -2.26093368e-01]\n",
            " [ 1.00000000e+00  5.07908699e-01 -2.26093368e-01]\n",
            " [ 1.00000000e+00 -7.43677059e-01 -1.55439190e+00]\n",
            " [ 1.00000000e+00  1.27107075e+00  1.10220517e+00]\n",
            " [ 1.00000000e+00 -1.99450507e-02  1.10220517e+00]\n",
            " [ 1.00000000e+00 -5.93588523e-01 -2.26093368e-01]\n",
            " [ 1.00000000e+00 -7.29685755e-01 -2.26093368e-01]\n",
            " [ 1.00000000e+00 -7.89466782e-01 -2.26093368e-01]\n",
            " [ 1.00000000e+00 -6.44465993e-01 -2.26093368e-01]\n",
            " [ 1.00000000e+00 -7.71822042e-02  1.10220517e+00]\n",
            " [ 1.00000000e+00 -8.65999486e-04 -2.26093368e-01]\n",
            " [ 1.00000000e+00 -1.40779041e-01 -2.26093368e-01]\n",
            " [ 1.00000000e+00  3.15099326e+00  2.43050370e+00]\n",
            " [ 1.00000000e+00 -9.31923697e-01 -2.26093368e-01]\n",
            " [ 1.00000000e+00  3.80715024e-01  1.10220517e+00]\n",
            " [ 1.00000000e+00 -8.65782986e-01 -1.55439190e+00]\n",
            " [ 1.00000000e+00 -9.72625673e-01 -2.26093368e-01]\n",
            " [ 1.00000000e+00  7.73743478e-01  1.10220517e+00]\n",
            " [ 1.00000000e+00  1.31050078e+00  1.10220517e+00]\n",
            " [ 1.00000000e+00 -2.97227261e-01 -2.26093368e-01]\n",
            " [ 1.00000000e+00 -1.43322915e-01 -1.55439190e+00]\n",
            " [ 1.00000000e+00 -5.04552951e-01 -2.26093368e-01]\n",
            " [ 1.00000000e+00 -4.91995958e-02  1.10220517e+00]\n",
            " [ 1.00000000e+00  2.40309445e+00 -2.26093368e-01]\n",
            " [ 1.00000000e+00 -1.14560907e+00 -2.26093368e-01]\n",
            " [ 1.00000000e+00 -6.90255715e-01 -2.26093368e-01]\n",
            " [ 1.00000000e+00  6.68172729e-01 -2.26093368e-01]\n",
            " [ 1.00000000e+00  2.53521350e-01 -2.26093368e-01]\n",
            " [ 1.00000000e+00  8.09357707e-01 -2.26093368e-01]\n",
            " [ 1.00000000e+00 -2.05647815e-01 -1.55439190e+00]\n",
            " [ 1.00000000e+00 -1.27280274e+00 -2.88269044e+00]\n",
            " [ 1.00000000e+00  5.00114703e-02  1.10220517e+00]\n",
            " [ 1.00000000e+00  1.44532608e+00 -2.26093368e-01]\n",
            " [ 1.00000000e+00 -2.41262044e-01  1.10220517e+00]\n",
            " [ 1.00000000e+00 -7.16966387e-01 -2.26093368e-01]\n",
            " [ 1.00000000e+00 -9.68809863e-01 -2.26093368e-01]\n",
            " [ 1.00000000e+00  1.67029651e-01  1.10220517e+00]\n",
            " [ 1.00000000e+00  2.81647389e+00  1.10220517e+00]\n",
            " [ 1.00000000e+00  2.05187753e-01  1.10220517e+00]\n",
            " [ 1.00000000e+00 -4.28236746e-01 -1.55439190e+00]\n",
            " [ 1.00000000e+00  3.01854946e-01 -2.26093368e-01]\n",
            " [ 1.00000000e+00  7.20322135e-01  1.10220517e+00]\n",
            " [ 1.00000000e+00 -1.01841540e+00 -2.26093368e-01]\n",
            " [ 1.00000000e+00 -1.46104938e+00 -1.55439190e+00]\n",
            " [ 1.00000000e+00 -1.89112638e-01  1.10220517e+00]\n",
            " [ 1.00000000e+00 -1.01459959e+00 -2.26093368e-01]]\n"
          ]
        }
      ],
      "source": [
        "print(X)"
      ]
    },
    {
      "cell_type": "markdown",
      "metadata": {
        "id": "xzLiIE6NlHQ3"
      },
      "source": [
        "<a id=\"section5\"></a>\n",
        "### 2.2 Descenso por el gradiente\n",
        "\n",
        "En el ejemplo anterior se implemento el descenso por el gradiente para un problema de regresion univariable. La unica diferencia es que ahora existe una caracteristica adicional en la matriz $X$. La función de hipótesis y la regla de actualización del descenso del gradiente por lotes permanecen sin cambios.\n",
        "\n",
        "La implementacion de las funciones `computeCostMulti` y `gradientDescentMulti` son similares a la funcion de costo y función de descenso por el gradiente de la regresión lineal multiple es similar al de la regresion lineal multivariable. Es importante garantizar que el codigo soporte cualquier numero de caracteristicas y esten bien vectorizadas.\n",
        "\n",
        "Se puede utilizar `shape`, propiedad de los arrays `numpy`, para identificar cuantas caracteristicas estan consideradas en el dataset.\n",
        "\n",
        "<div class=\"alert alert-block alert-warning\">\n",
        "**Nota de implementación:** En el caso de multivariables, la función de costo puede se escrita considerando la forma vectorizada de la siguiente manera:\n",
        "\n",
        "$$ J(\\theta) = \\frac{1}{2m}(X\\theta - \\vec{y})^T(X\\theta - \\vec{y}) $$\n",
        "\n",
        "donde:\n",
        "\n",
        "$$ X = \\begin{pmatrix}\n",
        "          - (x^{(1)})^T - \\\\\n",
        "          - (x^{(2)})^T - \\\\\n",
        "          \\vdots \\\\\n",
        "          - (x^{(m)})^T - \\\\ \\\\\n",
        "        \\end{pmatrix} \\qquad \\mathbf{y} = \\begin{bmatrix} y^{(1)} \\\\ y^{(2)} \\\\ \\vdots \\\\ y^{(m)} \\\\\\end{bmatrix}$$\n",
        "\n",
        "La version vectorizada es eficiente cuando se trabaja con herramientas de calculo numericos computacional como `numpy`.\n",
        "</div>\n",
        "\n",
        "<a id=\"computeCostMulti\"></a>"
      ]
    },
    {
      "cell_type": "code",
      "execution_count": null,
      "metadata": {
        "id": "EQCMN7KqlHQ3"
      },
      "outputs": [],
      "source": [
        "def computeCostMulti(X, y, theta):\n",
        "    # Inicializa algunos valores utiles\n",
        "    m = y.shape[0] # numero de ejemplos de entrenamiento\n",
        "\n",
        "    J = 0\n",
        "\n",
        "    h = np.dot(X, theta)\n",
        "\n",
        "    J = (1/(2 * m)) * np.sum(np.square(np.dot(X, theta) - y))\n",
        "\n",
        "    return J\n"
      ]
    },
    {
      "cell_type": "code",
      "execution_count": null,
      "metadata": {
        "id": "Vdy_aQUklHQ4"
      },
      "outputs": [],
      "source": [
        "def gradientDescentMulti(X, y, theta, alpha, num_iters):\n",
        "\n",
        "    # Inicializa algunos valores\n",
        "    m = y.shape[0] # numero de ejemplos de entrenamiento\n",
        "\n",
        "    # realiza una copia de theta, el cual será acutalizada por el descenso por el gradiente\n",
        "    theta = theta.copy()\n",
        "\n",
        "    J_history = []\n",
        "\n",
        "    for i in range(num_iters):\n",
        "        theta = theta - (alpha / m) * (np.dot(X, theta) - y).dot(X)\n",
        "        J_history.append(computeCostMulti(X, y, theta))\n",
        "\n",
        "    return theta, J_history"
      ]
    },
    {
      "cell_type": "markdown",
      "metadata": {
        "id": "a8b_GwZslHQ4"
      },
      "source": [
        "#### 3.2.1 Seleccionando coheficientes de aprendizaje\n"
      ]
    },
    {
      "cell_type": "code",
      "execution_count": null,
      "metadata": {
        "id": "sId0DiH9lHQ4",
        "colab": {
          "base_uri": "https://localhost:8080/",
          "height": 326
        },
        "outputId": "d846f20f-5e47-42c0-e318-04461142bd4b"
      },
      "outputs": [
        {
          "output_type": "stream",
          "name": "stdout",
          "text": [
            "theta calculado por el descenso por el gradiente: [340397.28199562 108736.46443478  -5867.03988583]\n",
            "El precio predecido para una casa de 1650 sq-ft y 3 dormitorios (usando el descenso por el gradiente): $293223\n"
          ]
        },
        {
          "output_type": "display_data",
          "data": {
            "text/plain": [
              "<Figure size 432x288 with 1 Axes>"
            ],
            "image/png": "[encoded data removed]"
          },
          "metadata": {
            "needs_background": "light"
          }
        }
      ],
      "source": [
        "# Elegir algun valor para alpha (probar varias alternativas)\n",
        "alpha = 0.001 # alpha = 0.003\n",
        "num_iters = 10000\n",
        "\n",
        "# inicializa theta y ejecuta el descenso por el gradiente\n",
        "theta = np.zeros(3)\n",
        "theta, J_history = gradientDescentMulti(X, y, theta, alpha, num_iters)\n",
        "\n",
        "# Grafica la convergencia del costo\n",
        "pyplot.plot(np.arange(len(J_history)), J_history, lw=2)\n",
        "pyplot.xlabel('Numero de iteraciones')\n",
        "pyplot.ylabel('Costo J')\n",
        "\n",
        "# Muestra los resultados del descenso por el gradiente\n",
        "print('theta calculado por el descenso por el gradiente: {:s}'.format(str(theta)))\n",
        "\n",
        "# Estimar el precio para una casa de 1650 sq-ft, con 3 dormitorios\n",
        "X_array = [1, 1650, 3]\n",
        "X_array[1:3] = (X_array[1:3] - mu) / sigma\n",
        "price = np.dot(X_array, theta)   # Se debe cambiar esto\n",
        "\n",
        "print('El precio predecido para una casa de 1650 sq-ft y 3 dormitorios (usando el descenso por el gradiente): ${:.0f}'.format(price))"
      ]
    },
    {
      "cell_type": "code",
      "execution_count": null,
      "metadata": {
        "id": "y0aZhWEqlHQ4"
      },
      "outputs": [],
      "source": [
        "X_array = [1, 1650, 3]\n",
        "X_array[1:3] = (X_array[1:3] - mu) / sigma"
      ]
    },
    {
      "cell_type": "code",
      "execution_count": null,
      "metadata": {
        "id": "KZ4G9CbJlHQ4",
        "outputId": "fc7d26a9-14aa-4a0b-9adf-3107ceea61f8",
        "colab": {
          "base_uri": "https://localhost:8080/"
        }
      },
      "outputs": [
        {
          "output_type": "execute_result",
          "data": {
            "text/plain": [
              "[-0.4460438603276164, -0.22609336757768828]"
            ]
          },
          "metadata": {},
          "execution_count": 35
        }
      ],
      "source": [
        "X_array[1:3]"
      ]
    },
    {
      "cell_type": "markdown",
      "metadata": {
        "id": "-nMzqD8elHQ4"
      },
      "source": [
        "<a id=\"section7\"></a>\n",
        "### 2.3 Ecuacion de la Normal\n",
        "\n",
        "Una manera de calcular rapidamente el modelo de una regresion lineal es:\n",
        "\n",
        "$$ \\theta = \\left( X^T X\\right)^{-1} X^T\\vec{y}$$\n",
        "\n",
        "Utilizando esta formula no requiere que se escale ninguna caracteristica, y se obtendra una solucion exacta con un solo calculo: no hay “bucles de convergencia” como en el descenso por el gradiente.\n",
        "\n",
        "Primero se recargan los datos para garantizar que las variables no esten modificadas. Recordar que no es necesario escalar las caracteristicas, se debe agregar la columna de unos a la matriz $X$ para tener el termino de intersección($\\theta_0$)."
      ]
    },
    {
      "cell_type": "code",
      "execution_count": null,
      "metadata": {
        "id": "C6j77JNmlHQ5"
      },
      "outputs": [],
      "source": [
        "# Cargar datos\n",
        "data = np.loadtxt('/content/gdrive/MyDrive/Colab Notebooks/machine learning/Datasets/ex1data2.txt', delimiter=',')\n",
        "X = data[:, :2]\n",
        "y = data[:, 2]\n",
        "m = y.size\n",
        "X = np.concatenate([np.ones((m, 1)), X], axis=1)"
      ]
    },
    {
      "cell_type": "code",
      "execution_count": null,
      "metadata": {
        "id": "gVZdjjk9lHQ5"
      },
      "outputs": [],
      "source": [
        "def normalEqn(X, y):\n",
        "\n",
        "    theta = np.zeros(X.shape[1])\n",
        "\n",
        "    theta = np.dot(np.dot(np.linalg.inv(np.dot(X.T,X)),X.T),y)\n",
        "\n",
        "    return theta"
      ]
    },
    {
      "cell_type": "code",
      "execution_count": null,
      "metadata": {
        "colab": {
          "base_uri": "https://localhost:8080/"
        },
        "id": "Ybyw-FfolHQ5",
        "outputId": "9dbf1a6f-2326-4a7c-98c5-16ae854aae64"
      },
      "outputs": [
        {
          "output_type": "stream",
          "name": "stdout",
          "text": [
            "Theta calculado a partir de la ecuación de la normal: [89597.9095428    139.21067402 -8738.01911233]\n",
            "Precio predecido para una cada de superficie de 1650 sq-ft y 3 dormitorios (usando la ecuación de la normal): $293081\n"
          ]
        }
      ],
      "source": [
        "# Calcula los parametros con la ecuación de la normal\n",
        "theta = normalEqn(X, y);\n",
        "\n",
        "# Muestra los resultados optenidos a partir de la aplicación de la ecuación de la normal\n",
        "print('Theta calculado a partir de la ecuación de la normal: {:s}'.format(str(theta)));\n",
        "\n",
        "# Estimar el precio para una casa de superficie de 1650 sq-ft y tres dormitorios\n",
        "\n",
        "X_array = [1, 1650, 3]\n",
        "price = np.dot(X_array, theta)\n",
        "\n",
        "print('Precio predecido para una cada de superficie de 1650 sq-ft y 3 dormitorios (usando la ecuación de la normal): ${:.0f}'.format(price))"
      ]
    }
  ],
  "metadata": {
    "kernelspec": {
      "display_name": "Python 3",
      "language": "python",
      "name": "python3"
    },
    "language_info": {
      "codemirror_mode": {
        "name": "ipython",
        "version": 3
      },
      "file_extension": ".py",
      "mimetype": "text/x-python",
      "name": "python",
      "nbconvert_exporter": "python",
      "pygments_lexer": "ipython3",
      "version": "3.8.5"
    },
    "colab": {
      "provenance": [],
      "include_colab_link": true
    }
  },
  "nbformat": 4,
  "nbformat_minor": 0
}