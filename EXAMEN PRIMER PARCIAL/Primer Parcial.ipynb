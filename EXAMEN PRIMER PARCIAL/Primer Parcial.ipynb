{
  "cells": [
    {
      "cell_type": "markdown",
      "metadata": {
        "id": "EEuJD85bAQTB"
      },
      "source": [
        "### **PRIMER PARCIAL 02/2023**\n",
        "\n",
        "A partir de la lista de datasets conformada, *construir un modelo de regresion aplicando el descenso por el gradiente y la ecuacion de la normal para el dataset* que se encuentra una fila por debajo de su nombre en la lista anteriormente mencionada.\n",
        "\n",
        "Se debe incluir el codigo fuente ademas de una explicacion breve del dataset que se le asigno, si existirian problemas estos deben ser descritos en que consisten y cual el enfoque utilizado para abordarlos.\n",
        "```\n",
        "# Tacuri Rengifo Victor Manuel\n",
        "# Ingenieria de Sistemas\n",
        "# CU: 35-5210\n",
        "```"
      ]
    },
    {
      "cell_type": "code",
      "execution_count": 1,
      "metadata": {
        "id": "qUxgZvq33-ID"
      },
      "outputs": [],
      "source": [
        "# utilizado para manejos de directorios y rutas\n",
        "import os\n",
        "\n",
        "# Computacion vectorial y cientifica para python\n",
        "import numpy as np\n",
        "\n",
        "# Librerias para graficación (trazado de gráficos)\n",
        "from matplotlib import pyplot\n",
        "from mpl_toolkits.mplot3d import Axes3D  # Necesario para graficar superficies 3D\n",
        "\n",
        "# llama a matplotlib a embeber graficas dentro de los cuadernillos\n",
        "%matplotlib inline"
      ]
    },
    {
      "cell_type": "code",
      "execution_count": 2,
      "metadata": {
        "id": "3zeLCpwjiQCT"
      },
      "outputs": [],
      "source": [
        "import pandas as pd\n",
        "from sklearn.preprocessing import LabelEncoder\n",
        "from datetime import datetime"
      ]
    },
    {
      "cell_type": "code",
      "source": [
        "#Acceder a Drive\n",
        "from google.colab import drive\n",
        "drive.mount('/content/drive')"
      ],
      "metadata": {
        "colab": {
          "base_uri": "https://localhost:8080/"
        },
        "id": "PBLReY41MhJy",
        "outputId": "1b240250-3b26-42af-a87c-a9ce4a1ed68c"
      },
      "execution_count": 3,
      "outputs": [
        {
          "output_type": "stream",
          "name": "stdout",
          "text": [
            "Drive already mounted at /content/drive; to attempt to forcibly remount, call drive.mount(\"/content/drive\", force_remount=True).\n"
          ]
        }
      ]
    },
    {
      "cell_type": "code",
      "execution_count": 4,
      "metadata": {
        "id": "V0ZXOA-6iUmV"
      },
      "outputs": [],
      "source": [
        "#Carga de dataset\n",
        "\n",
        "data = pd.read_csv('/content/drive/MyDrive/Colab Notebooks/Datasets/Most Streamed Spotify Songs 2023/spotify-2023.csv', encoding = \"ISO-8859-1\")#,skiprows=0, header=None)"
      ]
    },
    {
      "cell_type": "code",
      "execution_count": 5,
      "metadata": {
        "colab": {
          "base_uri": "https://localhost:8080/"
        },
        "id": "h325dVhXicrs",
        "outputId": "e73049dc-c459-4926-e1f8-0447ee5dee5e"
      },
      "outputs": [
        {
          "output_type": "stream",
          "name": "stdout",
          "text": [
            "                              track_name      artist(s)_name  artist_count  \\\n",
            "0    Seven (feat. Latto) (Explicit Ver.)    Latto, Jung Kook             2   \n",
            "1                                   LALA         Myke Towers             1   \n",
            "2                                vampire      Olivia Rodrigo             1   \n",
            "3                           Cruel Summer        Taylor Swift             1   \n",
            "4                         WHERE SHE GOES           Bad Bunny             1   \n",
            "..                                   ...                 ...           ...   \n",
            "948                         My Mind & Me        Selena Gomez             1   \n",
            "949            Bigger Than The Whole Sky        Taylor Swift             1   \n",
            "950                 A Veces (feat. Feid)  Feid, Paulo Londra             2   \n",
            "951                        En La De Ella  Feid, Sech, Jhayco             3   \n",
            "952                                Alone           Burna Boy             1   \n",
            "\n",
            "     released_year  released_month  released_day  in_spotify_playlists  \\\n",
            "0             2023               7            14                   553   \n",
            "1             2023               3            23                  1474   \n",
            "2             2023               6            30                  1397   \n",
            "3             2019               8            23                  7858   \n",
            "4             2023               5            18                  3133   \n",
            "..             ...             ...           ...                   ...   \n",
            "948           2022              11             3                   953   \n",
            "949           2022              10            21                  1180   \n",
            "950           2022              11             3                   573   \n",
            "951           2022              10            20                  1320   \n",
            "952           2022              11             4                   782   \n",
            "\n",
            "     in_spotify_charts    streams  in_apple_playlists  ...  bpm key   mode  \\\n",
            "0                  147  141381703                  43  ...  125   B  Major   \n",
            "1                   48  133716286                  48  ...   92  C#  Major   \n",
            "2                  113  140003974                  94  ...  138   F  Major   \n",
            "3                  100  800840817                 116  ...  170   A  Major   \n",
            "4                   50  303236322                  84  ...  144   A  Minor   \n",
            "..                 ...        ...                 ...  ...  ...  ..    ...   \n",
            "948                  0   91473363                  61  ...  144   A  Major   \n",
            "949                  0  121871870                   4  ...  166  F#  Major   \n",
            "950                  0   73513683                   2  ...   92  C#  Major   \n",
            "951                  0  133895612                  29  ...   97  C#  Major   \n",
            "952                  2   96007391                  27  ...   90   E  Minor   \n",
            "\n",
            "    danceability_%  valence_% energy_% acousticness_%  instrumentalness_%  \\\n",
            "0               80         89       83             31                   0   \n",
            "1               71         61       74              7                   0   \n",
            "2               51         32       53             17                   0   \n",
            "3               55         58       72             11                   0   \n",
            "4               65         23       80             14                  63   \n",
            "..             ...        ...      ...            ...                 ...   \n",
            "948             60         24       39             57                   0   \n",
            "949             42          7       24             83                   1   \n",
            "950             80         81       67              4                   0   \n",
            "951             82         67       77              8                   0   \n",
            "952             61         32       67             15                   0   \n",
            "\n",
            "     liveness_%  speechiness_%  \n",
            "0             8              4  \n",
            "1            10              4  \n",
            "2            31              6  \n",
            "3            11             15  \n",
            "4            11              6  \n",
            "..          ...            ...  \n",
            "948           8              3  \n",
            "949          12              6  \n",
            "950           8              6  \n",
            "951          12              5  \n",
            "952          11              5  \n",
            "\n",
            "[953 rows x 24 columns]\n"
          ]
        }
      ],
      "source": [
        "print(data)"
      ]
    },
    {
      "cell_type": "code",
      "execution_count": 6,
      "metadata": {
        "colab": {
          "base_uri": "https://localhost:8080/"
        },
        "id": "ZoYIJwRyifh-",
        "outputId": "8f3edb2c-773e-4430-d306-fdc728037e8c"
      },
      "outputs": [
        {
          "output_type": "stream",
          "name": "stdout",
          "text": [
            "<class 'pandas.core.frame.DataFrame'>\n",
            "RangeIndex: 953 entries, 0 to 952\n",
            "Data columns (total 24 columns):\n",
            " #   Column                Non-Null Count  Dtype \n",
            "---  ------                --------------  ----- \n",
            " 0   track_name            953 non-null    object\n",
            " 1   artist(s)_name        953 non-null    object\n",
            " 2   artist_count          953 non-null    int64 \n",
            " 3   released_year         953 non-null    int64 \n",
            " 4   released_month        953 non-null    int64 \n",
            " 5   released_day          953 non-null    int64 \n",
            " 6   in_spotify_playlists  953 non-null    int64 \n",
            " 7   in_spotify_charts     953 non-null    int64 \n",
            " 8   streams               953 non-null    object\n",
            " 9   in_apple_playlists    953 non-null    int64 \n",
            " 10  in_apple_charts       953 non-null    int64 \n",
            " 11  in_deezer_playlists   953 non-null    object\n",
            " 12  in_deezer_charts      953 non-null    int64 \n",
            " 13  in_shazam_charts      903 non-null    object\n",
            " 14  bpm                   953 non-null    int64 \n",
            " 15  key                   858 non-null    object\n",
            " 16  mode                  953 non-null    object\n",
            " 17  danceability_%        953 non-null    int64 \n",
            " 18  valence_%             953 non-null    int64 \n",
            " 19  energy_%              953 non-null    int64 \n",
            " 20  acousticness_%        953 non-null    int64 \n",
            " 21  instrumentalness_%    953 non-null    int64 \n",
            " 22  liveness_%            953 non-null    int64 \n",
            " 23  speechiness_%         953 non-null    int64 \n",
            "dtypes: int64(17), object(7)\n",
            "memory usage: 178.8+ KB\n"
          ]
        }
      ],
      "source": [
        "data.info()"
      ]
    },
    {
      "cell_type": "code",
      "source": [
        "#En caso de haber algun dato fila cualitativa convertimos a cuantitativo\n",
        "columnas_categoricas = data.select_dtypes(include=['object']).columns\n",
        "#columnas_categoricas = data.select_dtypes(include=['track_name', 'artist(s)_name', 'streams', 'in_deezer_playlists', 'in_shazam_charts', 'key','mode' ]).columns"
      ],
      "metadata": {
        "id": "WrvW2-urPnaA"
      },
      "execution_count": 7,
      "outputs": []
    },
    {
      "cell_type": "code",
      "source": [
        "for columna in columnas_categoricas:\n",
        "  le = LabelEncoder()\n",
        "  data[columna] = le.fit_transform(data[columna])"
      ],
      "metadata": {
        "id": "uSGUYpGERbMe"
      },
      "execution_count": 8,
      "outputs": []
    },
    {
      "cell_type": "code",
      "execution_count": 9,
      "metadata": {
        "id": "MJR_ngQEAFSz",
        "colab": {
          "base_uri": "https://localhost:8080/"
        },
        "outputId": "44fb1a46-128d-4364-93a2-f33f57905c62"
      },
      "outputs": [
        {
          "output_type": "stream",
          "name": "stdout",
          "text": [
            "<class 'pandas.core.frame.DataFrame'>\n",
            "RangeIndex: 953 entries, 0 to 952\n",
            "Data columns (total 24 columns):\n",
            " #   Column                Non-Null Count  Dtype\n",
            "---  ------                --------------  -----\n",
            " 0   track_name            953 non-null    int64\n",
            " 1   artist(s)_name        953 non-null    int64\n",
            " 2   artist_count          953 non-null    int64\n",
            " 3   released_year         953 non-null    int64\n",
            " 4   released_month        953 non-null    int64\n",
            " 5   released_day          953 non-null    int64\n",
            " 6   in_spotify_playlists  953 non-null    int64\n",
            " 7   in_spotify_charts     953 non-null    int64\n",
            " 8   streams               953 non-null    int64\n",
            " 9   in_apple_playlists    953 non-null    int64\n",
            " 10  in_apple_charts       953 non-null    int64\n",
            " 11  in_deezer_playlists   953 non-null    int64\n",
            " 12  in_deezer_charts      953 non-null    int64\n",
            " 13  in_shazam_charts      953 non-null    int64\n",
            " 14  bpm                   953 non-null    int64\n",
            " 15  key                   953 non-null    int64\n",
            " 16  mode                  953 non-null    int64\n",
            " 17  danceability_%        953 non-null    int64\n",
            " 18  valence_%             953 non-null    int64\n",
            " 19  energy_%              953 non-null    int64\n",
            " 20  acousticness_%        953 non-null    int64\n",
            " 21  instrumentalness_%    953 non-null    int64\n",
            " 22  liveness_%            953 non-null    int64\n",
            " 23  speechiness_%         953 non-null    int64\n",
            "dtypes: int64(24)\n",
            "memory usage: 178.8 KB\n"
          ]
        }
      ],
      "source": [
        "data.info()"
      ]
    },
    {
      "cell_type": "code",
      "execution_count": 10,
      "metadata": {
        "colab": {
          "base_uri": "https://localhost:8080/"
        },
        "id": "CDcJv73OABpB",
        "outputId": "5cf60134-0b10-4de8-fabc-14a9b7ee4563"
      },
      "outputs": [
        {
          "output_type": "stream",
          "name": "stdout",
          "text": [
            "     track_name  artist(s)_name  artist_count  released_year  released_month  \\\n",
            "0           687             326             2           2023               7   \n",
            "1           397             401             1           2023               3   \n",
            "2           936             431             1           2023               6   \n",
            "3           170             558             1           2019               8   \n",
            "4           864              43             1           2023               5   \n",
            "..          ...             ...           ...            ...             ...   \n",
            "948         523             517             1           2022              11   \n",
            "949          95             558             1           2022              10   \n",
            "950          14             184             2           2022              11   \n",
            "951         237             185             3           2022              10   \n",
            "952          44              78             1           2022              11   \n",
            "\n",
            "     released_day  in_spotify_playlists  in_spotify_charts  streams  \\\n",
            "0              14                   553                147      156   \n",
            "1              23                  1474                 48      125   \n",
            "2              30                  1397                113      151   \n",
            "3              23                  7858                100      864   \n",
            "4              18                  3133                 50      499   \n",
            "..            ...                   ...                ...      ...   \n",
            "948             3                   953                  0      912   \n",
            "949            21                  1180                  0       81   \n",
            "950             3                   573                  0      835   \n",
            "951            20                  1320                  0      127   \n",
            "952             4                   782                  2      937   \n",
            "\n",
            "     in_apple_playlists  ...  bpm  key  mode  danceability_%  valence_%  \\\n",
            "0                    43  ...  125    2     0              80         89   \n",
            "1                    48  ...   92    3     0              71         61   \n",
            "2                    94  ...  138    7     0              51         32   \n",
            "3                   116  ...  170    0     0              55         58   \n",
            "4                    84  ...  144    0     1              65         23   \n",
            "..                  ...  ...  ...  ...   ...             ...        ...   \n",
            "948                  61  ...  144    0     0              60         24   \n",
            "949                   4  ...  166    8     0              42          7   \n",
            "950                   2  ...   92    3     0              80         81   \n",
            "951                  29  ...   97    3     0              82         67   \n",
            "952                  27  ...   90    6     1              61         32   \n",
            "\n",
            "     energy_%  acousticness_%  instrumentalness_%  liveness_%  speechiness_%  \n",
            "0          83              31                   0           8              4  \n",
            "1          74               7                   0          10              4  \n",
            "2          53              17                   0          31              6  \n",
            "3          72              11                   0          11             15  \n",
            "4          80              14                  63          11              6  \n",
            "..        ...             ...                 ...         ...            ...  \n",
            "948        39              57                   0           8              3  \n",
            "949        24              83                   1          12              6  \n",
            "950        67               4                   0           8              6  \n",
            "951        77               8                   0          12              5  \n",
            "952        67              15                   0          11              5  \n",
            "\n",
            "[953 rows x 24 columns]\n"
          ]
        }
      ],
      "source": [
        "print(data)"
      ]
    },
    {
      "cell_type": "code",
      "source": [
        "# Obtener la columna que deseas mover\n",
        "columna_a_mover = data.pop('streams')\n",
        "\n",
        "# Agregar la columna al final del DataFrame\n",
        "data['streams'] = columna_a_mover\n",
        "\n",
        "# Generar un nuevo dataset con la columna movida\n",
        "nuevo_dataset = data.copy()\n",
        "\n",
        "# Guardar el nuevo DataFrame en un archivo CSV\n",
        "nuevo_dataset.to_csv('dataconyalfinal.csv', index=False)\n",
        "\n",
        "print(\"Archivo 'vinos2.csv' creado exitosamente.\")"
      ],
      "metadata": {
        "colab": {
          "base_uri": "https://localhost:8080/"
        },
        "id": "K4GoNAKXYFIT",
        "outputId": "55d0faf9-47ac-409e-cc54-3ddbbbdfe1ea"
      },
      "execution_count": 11,
      "outputs": [
        {
          "output_type": "stream",
          "name": "stdout",
          "text": [
            "Archivo 'vinos2.csv' creado exitosamente.\n"
          ]
        }
      ]
    },
    {
      "cell_type": "code",
      "source": [
        "#Carga de dataset\n",
        "\n",
        "data = pd.read_csv('/content/dataconyalfinal.csv', encoding = \"ISO-8859-1\")#,skiprows=0, header=None)"
      ],
      "metadata": {
        "id": "-yLRz7JBYV_V"
      },
      "execution_count": 12,
      "outputs": []
    },
    {
      "cell_type": "code",
      "source": [
        "print(data)"
      ],
      "metadata": {
        "colab": {
          "base_uri": "https://localhost:8080/"
        },
        "id": "J3kWI-DoYl8k",
        "outputId": "94a8fc78-4cce-46e3-ea83-1058b091d9f9"
      },
      "execution_count": 13,
      "outputs": [
        {
          "output_type": "stream",
          "name": "stdout",
          "text": [
            "     track_name  artist(s)_name  artist_count  released_year  released_month  \\\n",
            "0           687             326             2           2023               7   \n",
            "1           397             401             1           2023               3   \n",
            "2           936             431             1           2023               6   \n",
            "3           170             558             1           2019               8   \n",
            "4           864              43             1           2023               5   \n",
            "..          ...             ...           ...            ...             ...   \n",
            "948         523             517             1           2022              11   \n",
            "949          95             558             1           2022              10   \n",
            "950          14             184             2           2022              11   \n",
            "951         237             185             3           2022              10   \n",
            "952          44              78             1           2022              11   \n",
            "\n",
            "     released_day  in_spotify_playlists  in_spotify_charts  \\\n",
            "0              14                   553                147   \n",
            "1              23                  1474                 48   \n",
            "2              30                  1397                113   \n",
            "3              23                  7858                100   \n",
            "4              18                  3133                 50   \n",
            "..            ...                   ...                ...   \n",
            "948             3                   953                  0   \n",
            "949            21                  1180                  0   \n",
            "950             3                   573                  0   \n",
            "951            20                  1320                  0   \n",
            "952             4                   782                  2   \n",
            "\n",
            "     in_apple_playlists  in_apple_charts  ...  key  mode  danceability_%  \\\n",
            "0                    43              263  ...    2     0              80   \n",
            "1                    48              126  ...    3     0              71   \n",
            "2                    94              207  ...    7     0              51   \n",
            "3                   116              207  ...    0     0              55   \n",
            "4                    84              133  ...    0     1              65   \n",
            "..                  ...              ...  ...  ...   ...             ...   \n",
            "948                  61               13  ...    0     0              60   \n",
            "949                   4                0  ...    8     0              42   \n",
            "950                   2                0  ...    3     0              80   \n",
            "951                  29               26  ...    3     0              82   \n",
            "952                  27               18  ...    6     1              61   \n",
            "\n",
            "     valence_%  energy_%  acousticness_%  instrumentalness_%  liveness_%  \\\n",
            "0           89        83              31                   0           8   \n",
            "1           61        74               7                   0          10   \n",
            "2           32        53              17                   0          31   \n",
            "3           58        72              11                   0          11   \n",
            "4           23        80              14                  63          11   \n",
            "..         ...       ...             ...                 ...         ...   \n",
            "948         24        39              57                   0           8   \n",
            "949          7        24              83                   1          12   \n",
            "950         81        67               4                   0           8   \n",
            "951         67        77               8                   0          12   \n",
            "952         32        67              15                   0          11   \n",
            "\n",
            "     speechiness_%  streams  \n",
            "0                4      156  \n",
            "1                4      125  \n",
            "2                6      151  \n",
            "3               15      864  \n",
            "4                6      499  \n",
            "..             ...      ...  \n",
            "948              3      912  \n",
            "949              6       81  \n",
            "950              6      835  \n",
            "951              5      127  \n",
            "952              5      937  \n",
            "\n",
            "[953 rows x 24 columns]\n"
          ]
        }
      ]
    },
    {
      "cell_type": "code",
      "execution_count": 18,
      "metadata": {
        "id": "YuuRUXgCwvZ_"
      },
      "outputs": [],
      "source": [
        "# Lectura de Datos\n",
        "X = data.iloc[:, :23]\n",
        "y = data.iloc[:, 23]\n",
        "m = y.size"
      ]
    },
    {
      "cell_type": "code",
      "source": [
        "data.info()"
      ],
      "metadata": {
        "colab": {
          "base_uri": "https://localhost:8080/"
        },
        "id": "DMZVwyHBZe5r",
        "outputId": "b66e103c-b819-4292-ee34-324ab5df7a4e"
      },
      "execution_count": 15,
      "outputs": [
        {
          "output_type": "stream",
          "name": "stdout",
          "text": [
            "<class 'pandas.core.frame.DataFrame'>\n",
            "RangeIndex: 953 entries, 0 to 952\n",
            "Data columns (total 24 columns):\n",
            " #   Column                Non-Null Count  Dtype\n",
            "---  ------                --------------  -----\n",
            " 0   track_name            953 non-null    int64\n",
            " 1   artist(s)_name        953 non-null    int64\n",
            " 2   artist_count          953 non-null    int64\n",
            " 3   released_year         953 non-null    int64\n",
            " 4   released_month        953 non-null    int64\n",
            " 5   released_day          953 non-null    int64\n",
            " 6   in_spotify_playlists  953 non-null    int64\n",
            " 7   in_spotify_charts     953 non-null    int64\n",
            " 8   in_apple_playlists    953 non-null    int64\n",
            " 9   in_apple_charts       953 non-null    int64\n",
            " 10  in_deezer_playlists   953 non-null    int64\n",
            " 11  in_deezer_charts      953 non-null    int64\n",
            " 12  in_shazam_charts      953 non-null    int64\n",
            " 13  bpm                   953 non-null    int64\n",
            " 14  key                   953 non-null    int64\n",
            " 15  mode                  953 non-null    int64\n",
            " 16  danceability_%        953 non-null    int64\n",
            " 17  valence_%             953 non-null    int64\n",
            " 18  energy_%              953 non-null    int64\n",
            " 19  acousticness_%        953 non-null    int64\n",
            " 20  instrumentalness_%    953 non-null    int64\n",
            " 21  liveness_%            953 non-null    int64\n",
            " 22  speechiness_%         953 non-null    int64\n",
            " 23  streams               953 non-null    int64\n",
            "dtypes: int64(24)\n",
            "memory usage: 178.8 KB\n"
          ]
        }
      ]
    },
    {
      "cell_type": "code",
      "execution_count": 16,
      "metadata": {
        "colab": {
          "base_uri": "https://localhost:8080/"
        },
        "id": "x1NBC6A6xFoC",
        "outputId": "8172b13b-91fb-4a70-9de8-4bdff6d55302"
      },
      "outputs": [
        {
          "output_type": "stream",
          "name": "stdout",
          "text": [
            "     track_name  artist(s)_name  artist_count  released_year  released_month  \\\n",
            "0           687             326             2           2023               7   \n",
            "1           397             401             1           2023               3   \n",
            "2           936             431             1           2023               6   \n",
            "3           170             558             1           2019               8   \n",
            "4           864              43             1           2023               5   \n",
            "..          ...             ...           ...            ...             ...   \n",
            "948         523             517             1           2022              11   \n",
            "949          95             558             1           2022              10   \n",
            "950          14             184             2           2022              11   \n",
            "951         237             185             3           2022              10   \n",
            "952          44              78             1           2022              11   \n",
            "\n",
            "     released_day  in_spotify_playlists  in_spotify_charts  \\\n",
            "0              14                   553                147   \n",
            "1              23                  1474                 48   \n",
            "2              30                  1397                113   \n",
            "3              23                  7858                100   \n",
            "4              18                  3133                 50   \n",
            "..            ...                   ...                ...   \n",
            "948             3                   953                  0   \n",
            "949            21                  1180                  0   \n",
            "950             3                   573                  0   \n",
            "951            20                  1320                  0   \n",
            "952             4                   782                  2   \n",
            "\n",
            "     in_apple_playlists  in_apple_charts  ...  bpm  key  mode  danceability_%  \\\n",
            "0                    43              263  ...  125    2     0              80   \n",
            "1                    48              126  ...   92    3     0              71   \n",
            "2                    94              207  ...  138    7     0              51   \n",
            "3                   116              207  ...  170    0     0              55   \n",
            "4                    84              133  ...  144    0     1              65   \n",
            "..                  ...              ...  ...  ...  ...   ...             ...   \n",
            "948                  61               13  ...  144    0     0              60   \n",
            "949                   4                0  ...  166    8     0              42   \n",
            "950                   2                0  ...   92    3     0              80   \n",
            "951                  29               26  ...   97    3     0              82   \n",
            "952                  27               18  ...   90    6     1              61   \n",
            "\n",
            "     valence_%  energy_%  acousticness_%  instrumentalness_%  liveness_%  \\\n",
            "0           89        83              31                   0           8   \n",
            "1           61        74               7                   0          10   \n",
            "2           32        53              17                   0          31   \n",
            "3           58        72              11                   0          11   \n",
            "4           23        80              14                  63          11   \n",
            "..         ...       ...             ...                 ...         ...   \n",
            "948         24        39              57                   0           8   \n",
            "949          7        24              83                   1          12   \n",
            "950         81        67               4                   0           8   \n",
            "951         67        77               8                   0          12   \n",
            "952         32        67              15                   0          11   \n",
            "\n",
            "     speechiness_%  \n",
            "0                4  \n",
            "1                4  \n",
            "2                6  \n",
            "3               15  \n",
            "4                6  \n",
            "..             ...  \n",
            "948              3  \n",
            "949              6  \n",
            "950              6  \n",
            "951              5  \n",
            "952              5  \n",
            "\n",
            "[953 rows x 23 columns]\n",
            "************************************************************\n",
            "0      156\n",
            "1      125\n",
            "2      151\n",
            "3      864\n",
            "4      499\n",
            "      ... \n",
            "948    912\n",
            "949     81\n",
            "950    835\n",
            "951    127\n",
            "952    937\n",
            "Name: streams, Length: 953, dtype: int64\n"
          ]
        }
      ],
      "source": [
        "print(X)\n",
        "print('*'*60)\n",
        "print(y)"
      ]
    },
    {
      "cell_type": "markdown",
      "source": [
        "# Normalizar\n",
        "para que los valores esten de escala similar\n",
        "x0 y x1 esten entree 0.5"
      ],
      "metadata": {
        "id": "MJ3IYhrwY3ZB"
      }
    },
    {
      "cell_type": "code",
      "execution_count": 19,
      "metadata": {
        "id": "DrrFytt2gkI8"
      },
      "outputs": [],
      "source": [
        "def  featureNormalize(X):\n",
        "  # xnorm es una variable se va a copiar de (x) para no alterar el valor de x\n",
        "    X_norm = X.copy()\n",
        "    #se crea dos arrgelos de la misma dimension\n",
        "    mu = np.zeros(X.shape[1])# promedio y crea un arreglo igual a 0zeros\n",
        "    sigma = np.zeros(X.shape[1])# se crea esto mas\n",
        "\n",
        "    mu = np.mean(X, axis = 0) #media de X en el eje 0\n",
        "    sigma = np.std(X, axis = 0) # desviacion estandar de X en el eje 0\n",
        "    X_norm = (X - mu) / sigma # aqui esta aplicando la formula Y LO AGREA A XNORM\n",
        "\n",
        "    return X_norm, mu, sigma"
      ]
    },
    {
      "cell_type": "code",
      "execution_count": 20,
      "metadata": {
        "colab": {
          "base_uri": "https://localhost:8080/"
        },
        "id": "MhHhItqc4YLy",
        "outputId": "3b24251c-f604-4886-81dd-70c6d18be8d7"
      },
      "outputs": [
        {
          "output_type": "stream",
          "name": "stdout",
          "text": [
            "     track_name  artist(s)_name  artist_count  released_year  released_month  \\\n",
            "0           687             326             2           2023               7   \n",
            "1           397             401             1           2023               3   \n",
            "2           936             431             1           2023               6   \n",
            "3           170             558             1           2019               8   \n",
            "4           864              43             1           2023               5   \n",
            "..          ...             ...           ...            ...             ...   \n",
            "948         523             517             1           2022              11   \n",
            "949          95             558             1           2022              10   \n",
            "950          14             184             2           2022              11   \n",
            "951         237             185             3           2022              10   \n",
            "952          44              78             1           2022              11   \n",
            "\n",
            "     released_day  in_spotify_playlists  in_spotify_charts  \\\n",
            "0              14                   553                147   \n",
            "1              23                  1474                 48   \n",
            "2              30                  1397                113   \n",
            "3              23                  7858                100   \n",
            "4              18                  3133                 50   \n",
            "..            ...                   ...                ...   \n",
            "948             3                   953                  0   \n",
            "949            21                  1180                  0   \n",
            "950             3                   573                  0   \n",
            "951            20                  1320                  0   \n",
            "952             4                   782                  2   \n",
            "\n",
            "     in_apple_playlists  in_apple_charts  ...  bpm  key  mode  danceability_%  \\\n",
            "0                    43              263  ...  125    2     0              80   \n",
            "1                    48              126  ...   92    3     0              71   \n",
            "2                    94              207  ...  138    7     0              51   \n",
            "3                   116              207  ...  170    0     0              55   \n",
            "4                    84              133  ...  144    0     1              65   \n",
            "..                  ...              ...  ...  ...  ...   ...             ...   \n",
            "948                  61               13  ...  144    0     0              60   \n",
            "949                   4                0  ...  166    8     0              42   \n",
            "950                   2                0  ...   92    3     0              80   \n",
            "951                  29               26  ...   97    3     0              82   \n",
            "952                  27               18  ...   90    6     1              61   \n",
            "\n",
            "     valence_%  energy_%  acousticness_%  instrumentalness_%  liveness_%  \\\n",
            "0           89        83              31                   0           8   \n",
            "1           61        74               7                   0          10   \n",
            "2           32        53              17                   0          31   \n",
            "3           58        72              11                   0          11   \n",
            "4           23        80              14                  63          11   \n",
            "..         ...       ...             ...                 ...         ...   \n",
            "948         24        39              57                   0           8   \n",
            "949          7        24              83                   1          12   \n",
            "950         81        67               4                   0           8   \n",
            "951         67        77               8                   0          12   \n",
            "952         32        67              15                   0          11   \n",
            "\n",
            "     speechiness_%  \n",
            "0                4  \n",
            "1                4  \n",
            "2                6  \n",
            "3               15  \n",
            "4                6  \n",
            "..             ...  \n",
            "948              3  \n",
            "949              6  \n",
            "950              6  \n",
            "951              5  \n",
            "952              5  \n",
            "\n",
            "[953 rows x 23 columns]\n",
            "Media calculada: track_name               470.536201\n",
            "artist(s)_name           322.391396\n",
            "artist_count               1.556139\n",
            "released_year           2018.238195\n",
            "released_month             6.033578\n",
            "released_day              13.930745\n",
            "in_spotify_playlists    5200.124869\n",
            "in_spotify_charts         12.009444\n",
            "in_apple_playlists        67.812172\n",
            "in_apple_charts           51.908709\n",
            "in_deezer_playlists      165.151102\n",
            "in_deezer_charts           2.666317\n",
            "in_shazam_charts          61.422875\n",
            "bpm                      122.540399\n",
            "key                        5.735572\n",
            "mode                       0.422875\n",
            "danceability_%            66.969570\n",
            "valence_%                 51.431270\n",
            "energy_%                  64.279119\n",
            "acousticness_%            27.057712\n",
            "instrumentalness_%         1.581322\n",
            "liveness_%                18.213012\n",
            "speechiness_%             10.131165\n",
            "dtype: float64\n",
            "Desviación estandar calculada: track_name               271.884830\n",
            "artist(s)_name           187.721269\n",
            "artist_count               0.892576\n",
            "released_year             11.110384\n",
            "released_month             3.564563\n",
            "released_day               9.197120\n",
            "in_spotify_playlists    7893.464351\n",
            "in_spotify_charts         19.565718\n",
            "in_apple_playlists        86.396129\n",
            "in_apple_charts           50.603670\n",
            "in_deezer_playlists      100.584317\n",
            "in_deezer_charts           6.032431\n",
            "in_shazam_charts          69.539096\n",
            "bpm                       28.043077\n",
            "key                        3.528830\n",
            "mode                       0.494016\n",
            "danceability_%            14.622932\n",
            "valence_%                 23.468309\n",
            "energy_%                  16.541840\n",
            "acousticness_%            25.982435\n",
            "instrumentalness_%         8.405386\n",
            "liveness_%                13.704028\n",
            "speechiness_%              9.907685\n",
            "dtype: float64\n",
            "     track_name  artist(s)_name  artist_count  released_year  released_month  \\\n",
            "0      0.796160        0.019223      0.497282       0.428590        0.271119   \n",
            "1     -0.270468        0.418752     -0.623072       0.428590       -0.851038   \n",
            "2      1.711989        0.578563     -0.623072       0.428590       -0.009420   \n",
            "3     -1.105381        1.255098     -0.623072       0.068567        0.551659   \n",
            "4      1.447171       -1.488331     -0.623072       0.428590       -0.289959   \n",
            "..          ...             ...           ...            ...             ...   \n",
            "948    0.192963        1.036689     -0.623072       0.338585        1.393276   \n",
            "949   -1.381233        1.255098     -0.623072       0.338585        1.112737   \n",
            "950   -1.679153       -0.737217      0.497282       0.338585        1.393276   \n",
            "951   -0.858953       -0.731890      1.617635       0.338585        1.112737   \n",
            "952   -1.568812       -1.301884     -0.623072       0.338585        1.393276   \n",
            "\n",
            "     released_day  in_spotify_playlists  in_spotify_charts  \\\n",
            "0        0.007530             -0.588731           6.899341   \n",
            "1        0.986097             -0.472052           1.839470   \n",
            "2        1.747205             -0.481807           5.161607   \n",
            "3        0.986097              0.336718           4.497180   \n",
            "4        0.442449             -0.261878           1.941690   \n",
            "..            ...                   ...                ...   \n",
            "948     -1.188496             -0.538056          -0.613800   \n",
            "949      0.768638             -0.509298          -0.613800   \n",
            "950     -1.188496             -0.586197          -0.613800   \n",
            "951      0.659908             -0.491562          -0.613800   \n",
            "952     -1.079767             -0.559719          -0.511581   \n",
            "\n",
            "     in_apple_playlists  in_apple_charts  ...       bpm       key      mode  \\\n",
            "0             -0.287191         4.171462  ...  0.087708 -1.058587 -0.855995   \n",
            "1             -0.229318         1.464149  ... -1.089053 -0.775207 -0.855995   \n",
            "2              0.303113         3.064823  ...  0.551280  0.358314 -0.855995   \n",
            "3              0.557754         3.064823  ...  1.692382 -1.625347 -0.855995   \n",
            "4              0.187368         1.602478  ...  0.765237 -1.625347  1.168231   \n",
            "..                  ...              ...  ...       ...       ...       ...   \n",
            "948           -0.078848        -0.768891  ...  0.765237 -1.625347 -0.855995   \n",
            "949           -0.738600        -1.025789  ...  1.549744  0.641694 -0.855995   \n",
            "950           -0.761749        -1.025789  ... -1.089053 -0.775207 -0.855995   \n",
            "951           -0.449235        -0.511993  ... -0.910756 -0.775207 -0.855995   \n",
            "952           -0.472384        -0.670084  ... -1.160372  0.074934  1.168231   \n",
            "\n",
            "     danceability_%  valence_%  energy_%  acousticness_%  instrumentalness_%  \\\n",
            "0          0.891096   1.600828  1.131729        0.151729           -0.188132   \n",
            "1          0.275624   0.407730  0.587654       -0.771972           -0.188132   \n",
            "2         -1.092091  -0.827979 -0.681854       -0.387097           -0.188132   \n",
            "3         -0.818548   0.279898  0.466749       -0.618022           -0.188132   \n",
            "4         -0.134690  -1.211475  0.950371       -0.502559            7.307062   \n",
            "..              ...        ...       ...             ...                 ...   \n",
            "948       -0.476619  -1.168864 -1.528193        1.152405           -0.188132   \n",
            "949       -1.707562  -1.893245 -2.434984        2.153081           -0.069161   \n",
            "950        0.891096   1.259943  0.164485       -0.887435           -0.188132   \n",
            "951        1.027867   0.663394  0.769012       -0.733484           -0.188132   \n",
            "952       -0.408233  -0.827979  0.164485       -0.464072           -0.188132   \n",
            "\n",
            "     liveness_%  speechiness_%  \n",
            "0     -0.745256      -0.618829  \n",
            "1     -0.599314      -0.618829  \n",
            "2      0.933082      -0.416966  \n",
            "3     -0.526342       0.491420  \n",
            "4     -0.526342      -0.416966  \n",
            "..          ...            ...  \n",
            "948   -0.745256      -0.719761  \n",
            "949   -0.453371      -0.416966  \n",
            "950   -0.745256      -0.416966  \n",
            "951   -0.453371      -0.517897  \n",
            "952   -0.526342      -0.517897  \n",
            "\n",
            "[953 rows x 23 columns]\n"
          ]
        }
      ],
      "source": [
        "# llama featureNormalize con los datos cargados\n",
        "X_norm, mu, sigma = featureNormalize(X)\n",
        "\n",
        "print(X)\n",
        "print('Media calculada:', mu)\n",
        "print('Desviación estandar calculada:', sigma)\n",
        "print(X_norm)"
      ]
    },
    {
      "cell_type": "markdown",
      "source": [
        "# Implementacion"
      ],
      "metadata": {
        "id": "nenSJ64CWwhK"
      }
    },
    {
      "cell_type": "code",
      "execution_count": 21,
      "metadata": {
        "id": "EB4cCmdm4bxJ"
      },
      "outputs": [],
      "source": [
        "# Añade el termino de interseccion a X\n",
        "# (Columna de unos para X0)\n",
        "# Para aplicar la funcion desenso por el gradientey la funsion de costo agregamos una columna X0 con todo 1nos\n",
        "X = np.concatenate([np.ones((m, 1)), X_norm], axis=1)"
      ]
    },
    {
      "cell_type": "code",
      "execution_count": 22,
      "metadata": {
        "colab": {
          "base_uri": "https://localhost:8080/"
        },
        "id": "jxdWrQDC4fcD",
        "outputId": "7f34598d-cdad-4494-a7d7-b7982693ab7c"
      },
      "outputs": [
        {
          "output_type": "stream",
          "name": "stdout",
          "text": [
            "[[ 1.          0.7961599   0.0192232  ... -0.188132   -0.74525619\n",
            "  -0.61882917]\n",
            " [ 1.         -0.2704682   0.41875172 ... -0.188132   -0.5993137\n",
            "  -0.61882917]\n",
            " [ 1.          1.71198885  0.57856313 ... -0.188132    0.9330825\n",
            "  -0.41696568]\n",
            " ...\n",
            " [ 1.         -1.6791529  -0.73721745 ... -0.188132   -0.74525619\n",
            "  -0.41696568]\n",
            " [ 1.         -0.85895267 -0.7318904  ... -0.188132   -0.4533712\n",
            "  -0.51789743]\n",
            " [ 1.         -1.56881206 -1.30188442 ... -0.188132   -0.52634245\n",
            "  -0.51789743]]\n"
          ]
        }
      ],
      "source": [
        "print(X)"
      ]
    },
    {
      "cell_type": "markdown",
      "source": [
        "# Calculo de Costo"
      ],
      "metadata": {
        "id": "BrVXg7kTW2l5"
      }
    },
    {
      "cell_type": "code",
      "execution_count": 23,
      "metadata": {
        "id": "is_NER384kX5"
      },
      "outputs": [],
      "source": [
        "def computeCostMulti(X, y, theta):\n",
        "\n",
        "    # Inicializa algunos valores utiles\n",
        "    m = y.shape[0] # numero de ejemplos de entrenamiento\n",
        "\n",
        "    J = 0\n",
        "\n",
        "    h = np.dot(X, theta)\n",
        "#Funsion de costo\n",
        "    J = (1/(2 * m)) * np.sum(np.square(np.dot(X, theta) - y))\n",
        "\n",
        "    return J\n"
      ]
    },
    {
      "cell_type": "code",
      "execution_count": 24,
      "metadata": {
        "id": "NTic99Il4k9H"
      },
      "outputs": [],
      "source": [
        "def gradientDescentMulti(X, y, theta, alpha, num_iters):\n",
        "#NOS PERMITR AJUSTAR LOS VALORES DE THETHA BUSCANDO EL VALOR DE COSTO MAS PQUEÑITO\n",
        "    # Inicializa algunos valores\n",
        "    m = y.shape[0] # numero de ejemplos de entrenamiento\n",
        "\n",
        "    # realiza una copia de theta, el cual será acutalizada por el descenso por el gradiente\n",
        "    theta = theta.copy() # aqui copiamos thetha para que no afecte los valores\n",
        "\n",
        "    J_history = [] #lista que se utiliza para almacenar el costo en cada iteracion\n",
        "# BUCLE QUE CALCULA PARA TODAS LAS THETAS\n",
        "    for i in range(num_iters):\n",
        "        theta = theta - (alpha / m) * (np.dot(X, theta) - y).dot(X)\n",
        "        J_history.append(computeCostMulti(X, y, theta))\n",
        "\n",
        "    return theta, J_history"
      ]
    },
    {
      "cell_type": "code",
      "source": [
        "fila_deseada = 0\n",
        "\n",
        "if fila_deseada < len(data):\n",
        "  fila_completa = data.iloc[fila_deseada].to_numpy()\n",
        "  print(fila_completa)\n",
        "else:\n",
        "  print(\"La fila no existe\")"
      ],
      "metadata": {
        "id": "Czl-PJoX2XiX",
        "colab": {
          "base_uri": "https://localhost:8080/"
        },
        "outputId": "e869afc6-4bea-484b-daf2-d0b61aa6b364"
      },
      "execution_count": 25,
      "outputs": [
        {
          "output_type": "stream",
          "name": "stdout",
          "text": [
            "[ 687  326    2 2023    7   14  553  147   43  263  217   10  185  125\n",
            "    2    0   80   89   83   31    0    8    4  156]\n"
          ]
        }
      ]
    },
    {
      "cell_type": "code",
      "execution_count": 39,
      "metadata": {
        "colab": {
          "base_uri": "https://localhost:8080/",
          "height": 590
        },
        "id": "2sc2AmKF4qJQ",
        "outputId": "0194dac7-b4e6-473c-cbf4-434f3fb1615b"
      },
      "outputs": [
        {
          "output_type": "stream",
          "name": "stdout",
          "text": [
            "theta calculado por el descenso por el gradiente: [ 4.70627627e+02  1.36496571e+00  9.79325705e+00 -1.02931967e+01\n",
            " -1.39157485e+01  4.40195664e+00  3.49761517e+00 -3.69515932e+01\n",
            " -1.14370663e+01 -7.46750326e+00  2.62979298e+01 -3.82250420e+00\n",
            "  2.62493473e+00 -6.41351176e+00 -1.80874234e-01 -1.49605881e+01\n",
            "  1.66667212e+01 -6.76618262e+00 -5.26541279e+00  8.69781973e-01\n",
            " -7.12356591e+00  4.13641248e+00  5.62613531e-01 -6.56598754e+00]\n",
            "El valor  esperados :predecido es (usando el descenso por el gradiente): 399.4600\n"
          ]
        },
        {
          "output_type": "display_data",
          "data": {
            "text/plain": [
              "<Figure size 640x480 with 1 Axes>"
            ],
            "image/png": "[encoded data removed]"
          },
          "metadata": {}
        }
      ],
      "source": [
        "# Elegir algun valor para alpha (probar varias alternativas)\n",
        "alpha = 0.001 # coeficiente aprendizaje\n",
        "num_iters = 5000\n",
        "\n",
        "# inicializa theta y ejecuta el descenso por el gradiente\n",
        "#AQUI CREAMOS UN ARREGLO DE ZEROS\n",
        "theta = np.zeros(24)  #cambiar esto\n",
        "theta, J_history = gradientDescentMulti(X, y, theta, alpha, num_iters)\n",
        "\n",
        "# Grafica la convergencia del costo\n",
        "pyplot.plot(np.arange(len(J_history)), J_history, lw=2)\n",
        "pyplot.xlabel('Numero de iteraciones')\n",
        "pyplot.ylabel('Costo J')\n",
        "\n",
        "# Muestra los resultados del descenso por el gradiente\n",
        "print('theta calculado por el descenso por el gradiente: {:s}'.format(str(theta)))\n",
        "\n",
        "# Estimar el precio para un smart watch con distintas caracteristicas\n",
        "X_array = [1, 687,  326, 2, 2023, 7, 14, 553, 147, 43, 263, 217, 10, 185, 125, 2, 0, 80, 89, 83, 31, 8, 4, 156]#cambiar esto\n",
        "X_array[1:24] = (X_array[1:24] - mu) / sigma\n",
        "price = np.dot(X_array, theta)   # Se debe cambiar esto\n",
        "\n",
        "print('El valor  esperados :predecido es (usando el descenso por el gradiente): {:.4f}'.format(price))"
      ]
    },
    {
      "cell_type": "code",
      "execution_count": 32,
      "metadata": {
        "id": "pHpGapUtf4QP"
      },
      "outputs": [],
      "source": [
        "X_array = [687,  326, 2, 2023, 7, 14, 553, 147, 43, 263, 217, 10, 185, 125, 2, 0, 80, 89, 83, 31, 0, 8, 4, 156]\n",
        "X_array[1:24] = (X_array[1:24] - mu) / sigma"
      ]
    },
    {
      "cell_type": "code",
      "execution_count": 33,
      "metadata": {
        "id": "c_fhRmzof56K",
        "colab": {
          "base_uri": "https://localhost:8080/"
        },
        "outputId": "4470d445-8c7e-40bc-d68f-a175780f3175"
      },
      "outputs": [
        {
          "output_type": "execute_result",
          "data": {
            "text/plain": [
              "[-0.5316081860498749,\n",
              " -1.7067399813675952,\n",
              " 2264.731445248767,\n",
              " -181.02327849600232,\n",
              " 2.2348940821021257,\n",
              " 58.61283164173185,\n",
              " -0.6401656666667557,\n",
              " 1.58392121306044,\n",
              " 2.2592196061769414,\n",
              " 3.262437093804167,\n",
              " -1.542497936803807,\n",
              " 30.2255705196953,\n",
              " 0.9142644771996923,\n",
              " -4.298401324215186,\n",
              " -1.6253468101494872,\n",
              " 161.08209777696402,\n",
              " 1.5065672570543762,\n",
              " 1.3451642359713782,\n",
              " -2.011814763979061,\n",
              " -1.0413847988438365,\n",
              " 0.7636386340929889,\n",
              " -1.037141182898792,\n",
              " 14.722796492566196]"
            ]
          },
          "metadata": {},
          "execution_count": 33
        }
      ],
      "source": [
        "X_array[1:24]"
      ]
    },
    {
      "cell_type": "markdown",
      "source": [
        "# ECUACION DE LA Normalizacion\n",
        "THETHA = XTRANSPUESTA POR X"
      ],
      "metadata": {
        "id": "-1uHTizQYknp"
      }
    },
    {
      "cell_type": "code",
      "execution_count": 34,
      "metadata": {
        "id": "_MMoIdODf9FN"
      },
      "outputs": [],
      "source": [
        "#ES MAS EFECTIVA QUE EL DESENSO POR EL GRADIENTE EN PRESISCION PERO LA LIMITACION CUANDO SON MUY POCOS DATOS NO PUEDE DAR NO HAY QUE NORMALIZAR DATOS\n",
        "def normalEqn(X, y):\n",
        "\n",
        "    theta = np.zeros(X.shape[1])\n",
        "\n",
        "    theta = np.dot(np.dot(np.linalg.inv(np.dot(X.T,X)),X.T),y)\n",
        "\n",
        "    return theta"
      ]
    },
    {
      "cell_type": "code",
      "execution_count": 46,
      "metadata": {
        "id": "E7px4OMrf9un",
        "colab": {
          "base_uri": "https://localhost:8080/"
        },
        "outputId": "06c032d2-9109-45de-e3c3-d83852a57100"
      },
      "outputs": [
        {
          "output_type": "stream",
          "name": "stdout",
          "text": [
            "Theta calculado a partir de la ecuación de la normal: [ 4.73812172e+02  1.87190448e+00  9.92381423e+00 -1.04409404e+01\n",
            " -1.64344028e+01  3.57320380e+00  3.50320351e+00 -4.33941670e+01\n",
            " -1.41337123e+01 -2.86521670e+00  2.86102089e+01 -3.66692758e+00\n",
            "  3.56786032e+00 -7.02289768e+00 -6.13001868e-01 -1.50530385e+01\n",
            "  1.69368836e+01 -6.93143695e+00 -6.16893191e+00  7.14294930e-01\n",
            " -8.06007366e+00  4.01870439e+00  2.21156547e-01 -5.87805133e+00]\n",
            "Canciones de Spotify más reproducidas en 2023: -51216\n"
          ]
        }
      ],
      "source": [
        "# Calcula los parametros con la ecuación de la normal\n",
        "theta = normalEqn(X, y);\n",
        "\n",
        "# Muestra los resultados optenidos a partir de la aplicación de la ecuación de la normal\n",
        "print('Theta calculado a partir de la ecuación de la normal: {:s}'.format(str(theta)));\n",
        "\n",
        "# Estimar el precio para una casa de superficie de 1650 sq-ft y tres dormitorios\n",
        "\n",
        "X_array = [1, 687,  326, 2, 2023, 7, 14, 553, 147, 43, 263, 217, 10, 185, 125, 2, 0, 80, 89, 83, 31, 8, 4, 156]\n",
        "price = np.dot(X_array, theta)\n",
        "\n",
        "print('Canciones de Spotify más reproducidas en 2023: {:.0f}'.format(price))"
      ]
    }
  ],
  "metadata": {
    "colab": {
      "provenance": []
    },
    "kernelspec": {
      "display_name": "Python 3",
      "name": "python3"
    },
    "language_info": {
      "codemirror_mode": {
        "name": "ipython",
        "version": 3
      },
      "file_extension": ".py",
      "mimetype": "text/x-python",
      "name": "python",
      "nbconvert_exporter": "python",
      "pygments_lexer": "ipython3",
      "version": "3.11.5"
    }
  },
  "nbformat": 4,
  "nbformat_minor": 0
}